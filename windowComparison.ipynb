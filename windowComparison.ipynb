{
 "cells": [
  {
   "cell_type": "markdown",
   "metadata": {},
   "source": [
    "## Fixed vs Sliding Windows: Data Suppression\n",
    "\n",
    "* Combined detector expected to produce c. 40 MHz of hit signals (combined dark noise rate of all PMTs)\n",
    "* Plan: Zero suppression to avoid recording all this noise data\n",
    "* Easily implemented rejection criteria:\n",
    "  * Threshold of hits in time window\n",
    "  * Length of time window\n",
    "  * Algorithm (fixed windows vs. sliding window)\n",
    "* Hard to implement/verify criteria:\n",
    "  * Fast reconstruction\n",
    "  * Topological decisions\n",
    "  * Dynamic threshold changes"
   ]
  },
  {
   "cell_type": "markdown",
   "metadata": {},
   "source": [
    "# Fixed Window vs. Sliding Window\n",
    "* Fixed Window:\n",
    "  * easy to calculate\n",
    "  * pure Poisson\n",
    "  * independent events\n",
    "* Sliding Window:\n",
    "  * more permissive\n",
    "  * requires longer time windows\n",
    "  * window can \"bridge\" events\n"
   ]
  },
  {
   "cell_type": "markdown",
   "metadata": {},
   "source": [
    "# Visual Example\n",
    "![WindowTypes1](img/window-comp1.png)\n",
    "\n",
    "This sketch shows a random distribution of hits, split into equal time bins, highlighting which ones are above threshold and which ones aren't. Below is an example of a sliding window sweeping across.\n",
    "\n",
    "![WindowTypes2](img/window-comp2.png)\n",
    "\n",
    "This sketch shows the selected hits, the bottom part shows which sliding windows can be drawn to include the hits that are excluded in the fixed window, highlighting the more permissive nature of a sliding window via \"bridging\""
   ]
  },
  {
   "cell_type": "markdown",
   "metadata": {},
   "source": [
    "# Libraries and Functions\n",
    "The next few cells setup the basic libraries and the functions to generate the hits as well as the implementation of the sliding window"
   ]
  },
  {
   "cell_type": "code",
   "execution_count": 1,
   "metadata": {
    "jupyter": {
     "source_hidden": true
    }
   },
   "outputs": [],
   "source": [
    "# necessary libraries\n",
    "%matplotlib inline\n",
    "import numpy as np\n",
    "import random as rnd\n",
    "import matplotlib.pyplot as plt\n",
    "from scipy.interpolate import make_interp_spline, BSpline\n",
    "MHz = 1000000 # so we can just use MHz as unit\n",
    "ns = 1000000000 # nanoseconds in 1s"
   ]
  },
  {
   "cell_type": "code",
   "execution_count": 2,
   "metadata": {
    "jupyter": {
     "source_hidden": true
    }
   },
   "outputs": [],
   "source": [
    "def generatePoissonHits(timewindow, noiseRate):\n",
    "   \n",
    "   # average time between hits in ns\n",
    "   avgTime = ns/(noiseRate*MHz)\n",
    "   generationActive = True\n",
    "   runningHitTime = 0\n",
    "   nHits = 0\n",
    "\n",
    "   # generate hits until we the running event time\n",
    "   # exceeds the timewindow for the generation\n",
    "   while generationActive:\n",
    "      generatedHitTime = rnd.expovariate(1/avgTime)\n",
    "      runningHitTime += generatedHitTime\n",
    "      if(runningHitTime < timewindow):\n",
    "         nHits += 1\n",
    "      else:\n",
    "         generationActive = False\n",
    "   \n",
    "   return nHits"
   ]
  },
  {
   "cell_type": "code",
   "execution_count": 3,
   "metadata": {
    "jupyter": {
     "source_hidden": true
    }
   },
   "outputs": [],
   "source": [
    "def generatePoissonList(timespan, noiseRate):\n",
    "\n",
    "   # average time between hits in ns\n",
    "   avgTime = ns/(noiseRate*MHz)\n",
    "   generationActive = True\n",
    "   runningHitTime = 0\n",
    "   hitIndex = 0\n",
    "   hitList = []\n",
    "\n",
    "   # generate a list of hit until the event time\n",
    "   # exceeds the requested time span to be sampled\n",
    "   # NB: this is not the window, that's an extra step\n",
    "   while generationActive:\n",
    "      generatedHitTime = rnd.expovariate(1/avgTime)\n",
    "      runningHitTime += generatedHitTime\n",
    "      if(runningHitTime < timespan):\n",
    "         hit = [runningHitTime, False]\n",
    "         hitList.append(hit)\n",
    "         hitIndex += 1\n",
    "      else:\n",
    "         generationActive = False\n",
    "   return hitList"
   ]
  },
  {
   "cell_type": "code",
   "execution_count": 4,
   "metadata": {
    "jupyter": {
     "source_hidden": true
    }
   },
   "outputs": [],
   "source": [
    "def applySlidingWindow(hitList, slidingSize, hitThreshold):\n",
    "\n",
    "   # get length of the list of hits\n",
    "   listLength = len(hitList)\n",
    "\n",
    "   # we use each hit as starting point for a window\n",
    "   for i in range(listLength-hitThreshold):\n",
    "      startTime = hitList[i][0]\n",
    "      hitsInWindow = 1\n",
    "\n",
    "      # now we check the next n hits and whether\n",
    "      # they are within the time window slidingSize\n",
    "      for j in range(hitThreshold):\n",
    "         deltaTime = hitList[i+j+1][0] - startTime\n",
    "         if(deltaTime <= slidingSize):\n",
    "            hitsInWindow += 1\n",
    "   \n",
    "      # if the hits within the window exceeds\n",
    "      # the threshold, we set all of these hits\n",
    "      # to True (i.e. selected)\n",
    "      if hitsInWindow > hitThreshold:\n",
    "         hitList[i][1] = True\n",
    "         for j in range(hitThreshold):\n",
    "            deltaTime = hitList[i+j+1][0] - startTime\n",
    "            if(deltaTime <= slidingSize):\n",
    "               hitList[i+j+1][1] = True\n",
    "\n",
    "   # now iterate over list and count\n",
    "   # all selected hits that are True\n",
    "   totalHits = 0\n",
    "   for i in range(listLength):\n",
    "      if hitList[i][1] == True:\n",
    "         totalHits +=1\n",
    "\n",
    "   # return this number\n",
    "   return totalHits"
   ]
  },
  {
   "cell_type": "markdown",
   "metadata": {},
   "source": [
    "# Calculation Parameters (make adjustments here)\n",
    "The next cell contains the basic variables defining the simulation:\n",
    "* **darkNoiseRate:** This is the combined detector dark noise rate in MHz, default is *40 MHz*\n",
    "* **windowSize:** The time window used in ns, default is *100 ns*\n",
    "* **maxThreshold:** This notebook will compute the effect of different thresholds up to this value, default is *20*\n",
    "* **samples:** How many time windows the script will test (for the sliding window, this is effectively a time equal to the window length times the number of time windows), default is *100,000*, but to lower the uncertainty, crank it up to at least 1M\n",
    "* **debugOutput:** Whether the notebook will generate the intermediate output... default is *False*"
   ]
  },
  {
   "cell_type": "code",
   "execution_count": 5,
   "metadata": {},
   "outputs": [],
   "source": [
    "# setup variables\n",
    "darkNoiseRate = 40 # in MHz, default: 40 MHz\n",
    "windowSize = 100 # in ns, default: 100 ns\n",
    "maxThreshold = 10 # default: 10\n",
    "samples = 100000 # default: 100000\n",
    "debug = False # default: False"
   ]
  },
  {
   "cell_type": "code",
   "execution_count": 6,
   "metadata": {
    "jupyter": {
     "source_hidden": true
    }
   },
   "outputs": [],
   "source": [
    "# convertToHz normalises events to 1s (i.e. Hz)\n",
    "convertToHz = (ns/windowSize)/samples\n",
    "convertTokHz = convertToHz/1000\n",
    "convertToMHz = convertToHz/1000000\n",
    "\n",
    "# avg time between\n",
    "avgTime = ns/(darkNoiseRate*MHz)\n",
    "if debug:\n",
    "    print(\"avg Time:\", avgTime)\n",
    "\n",
    "# we want to run over several thresholds\n",
    "yFixed = []\n",
    "ySliding = []\n",
    "xThreshold = []\n",
    "\n",
    "# we want to run over noise rates, too\n",
    "yNoiseScan2 = []\n",
    "yNoiseScan4 = []\n",
    "yNoiseScan6 = []\n",
    "yNoiseScan8 = []\n",
    "yNoiseScan10 = []\n",
    "xRate = []"
   ]
  },
  {
   "cell_type": "code",
   "execution_count": 7,
   "metadata": {
    "jupyter": {
     "source_hidden": true
    }
   },
   "outputs": [
    {
     "name": "stdout",
     "output_type": "stream",
     "text": [
      "Starting calculations...\n",
      "Start threshold scan...\n",
      "Start noise rate scan...\n",
      "Finished calculations...\n"
     ]
    }
   ],
   "source": [
    "print(\"Starting calculations...\")\n",
    "\n",
    "# scan across thresholds\n",
    "print(\"Start threshold scan...\")\n",
    "for threshold in range(0,maxThreshold+1):\n",
    "\n",
    "   if debug:\n",
    "      print(\"Running threshold\", threshold)\n",
    "   xThreshold.append(threshold)\n",
    "\n",
    "   # generate a Poisson events independently,\n",
    "   # i.e. sample many fixed windows\n",
    "   fixedRate = 0\n",
    "   for i in range(samples):\n",
    "      hits = generatePoissonHits(windowSize, darkNoiseRate)\n",
    "      if hits > threshold:\n",
    "         fixedRate += hits\n",
    "   if debug:\n",
    "      print(\"Fixed Rate (kHz):\", fixedRate*convertTokHz)\n",
    "   yFixed.append(fixedRate*convertTokHz)\n",
    "\n",
    "   # generate hit list for sliding window\n",
    "   allHits = generatePoissonList(samples*windowSize,40)\n",
    "\n",
    "   # then apply sliding window to that list\n",
    "   # special case of threshold = 0, as function\n",
    "   # will fail, so just use everything!\n",
    "   slidingRate = 0\n",
    "   if threshold > 0:\n",
    "      slidingRate = applySlidingWindow(allHits, windowSize, threshold)\n",
    "   else:\n",
    "      slidingRate = len(allHits)\n",
    "\n",
    "   if debug:\n",
    "      print(\"Sliding Rate (kHz):\", slidingRate*convertTokHz)\n",
    "   ySliding.append(slidingRate*convertTokHz)\n",
    "\n",
    "# scan across noise rates\n",
    "print(\"Start noise rate scan...\")\n",
    "for testNoiseRate in range(2, 52, 2):\n",
    "    \n",
    "    # generate new hit list for new new noise rates\n",
    "    noiseScanHits2 = generatePoissonList(samples*windowSize,testNoiseRate)\n",
    "    noiseScanHits4 = generatePoissonList(samples*windowSize,testNoiseRate)\n",
    "    noiseScanHits6 = generatePoissonList(samples*windowSize,testNoiseRate)\n",
    "    noiseScanHits8 = generatePoissonList(samples*windowSize,testNoiseRate)\n",
    "    noiseScanHits10 = generatePoissonList(samples*windowSize,testNoiseRate)\n",
    "    \n",
    "    # apply sliding window\n",
    "    scanSlidingRate2 = applySlidingWindow(noiseScanHits2, windowSize, 2)\n",
    "    scanSlidingRate4 = applySlidingWindow(noiseScanHits4, windowSize, 4)\n",
    "    scanSlidingRate6 = applySlidingWindow(noiseScanHits6, windowSize, 6)\n",
    "    scanSlidingRate8 = applySlidingWindow(noiseScanHits8, windowSize, 8)\n",
    "    scanSlidingRate10 = applySlidingWindow(noiseScanHits10, windowSize, 10)\n",
    "    \n",
    "    # append to table\n",
    "    yNoiseScan2.append(scanSlidingRate2*convertTokHz)\n",
    "    yNoiseScan4.append(scanSlidingRate4*convertTokHz)\n",
    "    yNoiseScan6.append(scanSlidingRate6*convertTokHz)\n",
    "    yNoiseScan8.append(scanSlidingRate8*convertTokHz)\n",
    "    yNoiseScan10.append(scanSlidingRate10*convertTokHz)\n",
    "    xRate.append(testNoiseRate)\n",
    "\n",
    "print(\"Finished calculations...\")"
   ]
  },
  {
   "cell_type": "code",
   "execution_count": 8,
   "metadata": {
    "jupyter": {
     "source_hidden": true
    }
   },
   "outputs": [],
   "source": [
    "# print out debug table\n",
    "if debug:\n",
    "   print(\"T'hold\\tFixed [kHz]\\tSliding [kHz]\")\n",
    "   for t in range(len(xThreshold)):\n",
    "      print(\"%.0f\\t%.2f\\t%.2f\" % (xThreshold[t], yFixed[t], ySliding[t]))"
   ]
  },
  {
   "cell_type": "markdown",
   "metadata": {},
   "source": [
    "# Results\n",
    "The three lists (xThreshold, yFixed, ySliding) hold the respective values of registered hits. These are converted into a table and a (smoothed) plot below for presentations."
   ]
  },
  {
   "cell_type": "code",
   "execution_count": 9,
   "metadata": {
    "jupyter": {
     "source_hidden": true
    }
   },
   "outputs": [
    {
     "data": {
      "text/html": [
       "<table border=\"1\" class=\"dataframe\">\n",
       "  <thead>\n",
       "    <tr style=\"text-align: right;\">\n",
       "      <th>Threshold</th>\n",
       "      <th>Fixed Window [kHz]</th>\n",
       "      <th>Sliding Window [kHz]</th>\n",
       "    </tr>\n",
       "  </thead>\n",
       "  <tbody>\n",
       "    <tr>\n",
       "      <td>0</td>\n",
       "      <td>39970.84</td>\n",
       "      <td>39995.92</td>\n",
       "    </tr>\n",
       "    <tr>\n",
       "      <td>1</td>\n",
       "      <td>39256.64</td>\n",
       "      <td>39994.64</td>\n",
       "    </tr>\n",
       "    <tr>\n",
       "      <td>2</td>\n",
       "      <td>36378.12</td>\n",
       "      <td>39794.08</td>\n",
       "    </tr>\n",
       "    <tr>\n",
       "      <td>3</td>\n",
       "      <td>30489.88</td>\n",
       "      <td>38546.36</td>\n",
       "    </tr>\n",
       "    <tr>\n",
       "      <td>4</td>\n",
       "      <td>22599.48</td>\n",
       "      <td>35252.84</td>\n",
       "    </tr>\n",
       "    <tr>\n",
       "      <td>5</td>\n",
       "      <td>14805.04</td>\n",
       "      <td>28988.04</td>\n",
       "    </tr>\n",
       "    <tr>\n",
       "      <td>6</td>\n",
       "      <td>8658.60</td>\n",
       "      <td>21176.64</td>\n",
       "    </tr>\n",
       "    <tr>\n",
       "      <td>7</td>\n",
       "      <td>4513.08</td>\n",
       "      <td>13524.28</td>\n",
       "    </tr>\n",
       "    <tr>\n",
       "      <td>8</td>\n",
       "      <td>1994.16</td>\n",
       "      <td>7704.88</td>\n",
       "    </tr>\n",
       "    <tr>\n",
       "      <td>9</td>\n",
       "      <td>874.32</td>\n",
       "      <td>3823.24</td>\n",
       "    </tr>\n",
       "    <tr>\n",
       "      <td>10</td>\n",
       "      <td>309.72</td>\n",
       "      <td>1714.36</td>\n",
       "    </tr>\n",
       "  </tbody>\n",
       "</table>"
      ],
      "text/plain": [
       "<IPython.core.display.HTML object>"
      ]
     },
     "metadata": {},
     "output_type": "display_data"
    },
    {
     "data": {
      "text/html": [
       "<table border=\"1\" class=\"dataframe\">\n",
       "  <thead>\n",
       "    <tr style=\"text-align: right;\">\n",
       "      <th>Noise Rate [MHz]</th>\n",
       "      <th>Hit Rate n&gt;2 [kHz]</th>\n",
       "      <th>Hit Rate n&gt;4 [kHz]</th>\n",
       "      <th>Hit Rate n&gt;6 [kHz]</th>\n",
       "      <th>Hit Rate n&gt;8 [kHz]</th>\n",
       "      <th>Hit Rate n&gt;10 [kHz]</th>\n",
       "    </tr>\n",
       "  </thead>\n",
       "  <tbody>\n",
       "    <tr>\n",
       "      <td>2</td>\n",
       "      <td>94.92</td>\n",
       "      <td>0.00</td>\n",
       "      <td>0.00</td>\n",
       "      <td>0.00</td>\n",
       "      <td>0.00</td>\n",
       "    </tr>\n",
       "    <tr>\n",
       "      <td>4</td>\n",
       "      <td>626.64</td>\n",
       "      <td>16.40</td>\n",
       "      <td>0.00</td>\n",
       "      <td>0.00</td>\n",
       "      <td>0.00</td>\n",
       "    </tr>\n",
       "    <tr>\n",
       "      <td>6</td>\n",
       "      <td>1691.28</td>\n",
       "      <td>78.60</td>\n",
       "      <td>0.84</td>\n",
       "      <td>0.00</td>\n",
       "      <td>0.00</td>\n",
       "    </tr>\n",
       "    <tr>\n",
       "      <td>8</td>\n",
       "      <td>3321.24</td>\n",
       "      <td>283.76</td>\n",
       "      <td>10.72</td>\n",
       "      <td>0.00</td>\n",
       "      <td>0.00</td>\n",
       "    </tr>\n",
       "    <tr>\n",
       "      <td>10</td>\n",
       "      <td>5241.88</td>\n",
       "      <td>678.64</td>\n",
       "      <td>33.00</td>\n",
       "      <td>0.00</td>\n",
       "      <td>0.00</td>\n",
       "    </tr>\n",
       "    <tr>\n",
       "      <td>12</td>\n",
       "      <td>7503.12</td>\n",
       "      <td>1351.40</td>\n",
       "      <td>101.36</td>\n",
       "      <td>2.28</td>\n",
       "      <td>0.00</td>\n",
       "    </tr>\n",
       "    <tr>\n",
       "      <td>14</td>\n",
       "      <td>9908.08</td>\n",
       "      <td>2390.40</td>\n",
       "      <td>224.24</td>\n",
       "      <td>6.68</td>\n",
       "      <td>0.44</td>\n",
       "    </tr>\n",
       "    <tr>\n",
       "      <td>16</td>\n",
       "      <td>12370.68</td>\n",
       "      <td>3701.12</td>\n",
       "      <td>451.24</td>\n",
       "      <td>27.68</td>\n",
       "      <td>1.36</td>\n",
       "    </tr>\n",
       "    <tr>\n",
       "      <td>18</td>\n",
       "      <td>14883.64</td>\n",
       "      <td>5433.40</td>\n",
       "      <td>847.60</td>\n",
       "      <td>61.20</td>\n",
       "      <td>2.72</td>\n",
       "    </tr>\n",
       "    <tr>\n",
       "      <td>20</td>\n",
       "      <td>17429.60</td>\n",
       "      <td>7592.36</td>\n",
       "      <td>1355.12</td>\n",
       "      <td>128.88</td>\n",
       "      <td>6.72</td>\n",
       "    </tr>\n",
       "    <tr>\n",
       "      <td>22</td>\n",
       "      <td>19870.64</td>\n",
       "      <td>9900.52</td>\n",
       "      <td>2146.84</td>\n",
       "      <td>240.60</td>\n",
       "      <td>14.44</td>\n",
       "    </tr>\n",
       "    <tr>\n",
       "      <td>24</td>\n",
       "      <td>22225.24</td>\n",
       "      <td>12410.32</td>\n",
       "      <td>3193.56</td>\n",
       "      <td>419.28</td>\n",
       "      <td>37.80</td>\n",
       "    </tr>\n",
       "    <tr>\n",
       "      <td>26</td>\n",
       "      <td>24597.72</td>\n",
       "      <td>15086.92</td>\n",
       "      <td>4614.48</td>\n",
       "      <td>722.64</td>\n",
       "      <td>76.36</td>\n",
       "    </tr>\n",
       "    <tr>\n",
       "      <td>28</td>\n",
       "      <td>26888.56</td>\n",
       "      <td>17985.00</td>\n",
       "      <td>6071.68</td>\n",
       "      <td>1117.64</td>\n",
       "      <td>129.92</td>\n",
       "    </tr>\n",
       "    <tr>\n",
       "      <td>30</td>\n",
       "      <td>29189.16</td>\n",
       "      <td>20727.84</td>\n",
       "      <td>8065.04</td>\n",
       "      <td>1673.24</td>\n",
       "      <td>205.20</td>\n",
       "    </tr>\n",
       "    <tr>\n",
       "      <td>32</td>\n",
       "      <td>31300.88</td>\n",
       "      <td>23771.88</td>\n",
       "      <td>10194.44</td>\n",
       "      <td>2438.00</td>\n",
       "      <td>375.36</td>\n",
       "    </tr>\n",
       "    <tr>\n",
       "      <td>34</td>\n",
       "      <td>33481.20</td>\n",
       "      <td>26756.40</td>\n",
       "      <td>12605.72</td>\n",
       "      <td>3340.80</td>\n",
       "      <td>544.76</td>\n",
       "    </tr>\n",
       "    <tr>\n",
       "      <td>36</td>\n",
       "      <td>35562.04</td>\n",
       "      <td>29495.12</td>\n",
       "      <td>15388.08</td>\n",
       "      <td>4539.88</td>\n",
       "      <td>824.24</td>\n",
       "    </tr>\n",
       "    <tr>\n",
       "      <td>38</td>\n",
       "      <td>37659.72</td>\n",
       "      <td>32446.28</td>\n",
       "      <td>18258.48</td>\n",
       "      <td>5962.16</td>\n",
       "      <td>1216.48</td>\n",
       "    </tr>\n",
       "    <tr>\n",
       "      <td>40</td>\n",
       "      <td>39673.60</td>\n",
       "      <td>35223.48</td>\n",
       "      <td>21139.76</td>\n",
       "      <td>7647.16</td>\n",
       "      <td>1713.00</td>\n",
       "    </tr>\n",
       "    <tr>\n",
       "      <td>42</td>\n",
       "      <td>41779.52</td>\n",
       "      <td>37920.36</td>\n",
       "      <td>24318.80</td>\n",
       "      <td>9678.20</td>\n",
       "      <td>2359.48</td>\n",
       "    </tr>\n",
       "    <tr>\n",
       "      <td>44</td>\n",
       "      <td>43882.80</td>\n",
       "      <td>40550.56</td>\n",
       "      <td>27564.44</td>\n",
       "      <td>11630.72</td>\n",
       "      <td>3214.00</td>\n",
       "    </tr>\n",
       "    <tr>\n",
       "      <td>46</td>\n",
       "      <td>45810.92</td>\n",
       "      <td>43008.92</td>\n",
       "      <td>30682.28</td>\n",
       "      <td>14308.64</td>\n",
       "      <td>4206.48</td>\n",
       "    </tr>\n",
       "    <tr>\n",
       "      <td>48</td>\n",
       "      <td>47966.44</td>\n",
       "      <td>45659.76</td>\n",
       "      <td>34359.80</td>\n",
       "      <td>16948.44</td>\n",
       "      <td>5316.20</td>\n",
       "    </tr>\n",
       "    <tr>\n",
       "      <td>50</td>\n",
       "      <td>49929.52</td>\n",
       "      <td>47956.32</td>\n",
       "      <td>37412.52</td>\n",
       "      <td>19939.32</td>\n",
       "      <td>6775.20</td>\n",
       "    </tr>\n",
       "  </tbody>\n",
       "</table>"
      ],
      "text/plain": [
       "<IPython.core.display.HTML object>"
      ]
     },
     "metadata": {},
     "output_type": "display_data"
    }
   ],
   "source": [
    "# turn into nice table for data frame + printing\n",
    "resultTable1 = [] # threshold scan\n",
    "resultTable2 = [] # noise scan\n",
    "for t in range(len(xThreshold)):\n",
    "    resultTable1.append([xThreshold[t], round(yFixed[t],2), round(ySliding[t],2)])\n",
    "for t in range(len(xRate)):\n",
    "    resultTable2.append([xRate[t], round(yNoiseScan2[t],2), round(yNoiseScan4[t],2), round(yNoiseScan6[t],2), round(yNoiseScan8[t],2), round(yNoiseScan10[t],2)])\n",
    "\n",
    "# load pandas and IPython display\n",
    "import pandas as pd\n",
    "from IPython.display import display, HTML\n",
    "\n",
    "# convert into dataframe\n",
    "resultData1 = pd.DataFrame(resultTable1, columns=[\"Threshold\", \"Fixed Window [kHz]\", \"Sliding Window [kHz]\"])\n",
    "resultData2 = pd.DataFrame(resultTable2, columns=[\"Noise Rate [MHz]\", \"Hit Rate n>2 [kHz]\", \"Hit Rate n>4 [kHz]\", \"Hit Rate n>6 [kHz]\", \"Hit Rate n>8 [kHz]\", \"Hit Rate n>10 [kHz]\"])\n",
    "display(HTML(resultData1.to_html(index=False)))\n",
    "display(HTML(resultData2.to_html(index=False)))"
   ]
  },
  {
   "cell_type": "code",
   "execution_count": 10,
   "metadata": {
    "jupyter": {
     "source_hidden": true
    }
   },
   "outputs": [],
   "source": [
    "# interpolate for nicer looking plot\n",
    "spl1 = make_interp_spline(xThreshold, yFixed, k=3)\n",
    "spl2 = make_interp_spline(xThreshold, ySliding, k=3)\n",
    "xnew = np.linspace(0,maxThreshold,maxThreshold*10)\n",
    "ysmoothf = spl1(xnew)\n",
    "ysmooths = spl2(xnew)\n",
    "\n",
    "# do the same for the noise scan\n",
    "nspl2 = make_interp_spline(xRate, yNoiseScan2, k=3)\n",
    "nspl4 = make_interp_spline(xRate, yNoiseScan4, k=3)\n",
    "nspl6 = make_interp_spline(xRate, yNoiseScan6, k=3)\n",
    "nspl8 = make_interp_spline(xRate, yNoiseScan8, k=3)\n",
    "nspl10 = make_interp_spline(xRate, yNoiseScan10, k=3)\n",
    "xnewnoise = np.linspace(0,50,50*10)\n",
    "ysmoothnoise2 = nspl2(xnewnoise)\n",
    "ysmoothnoise4 = nspl4(xnewnoise)\n",
    "ysmoothnoise6 = nspl6(xnewnoise)\n",
    "ysmoothnoise8 = nspl8(xnewnoise)\n",
    "ysmoothnoise10 = nspl10(xnewnoise)"
   ]
  },
  {
   "cell_type": "code",
   "execution_count": 11,
   "metadata": {
    "jupyter": {
     "source_hidden": true
    }
   },
   "outputs": [
    {
     "data": {
      "image/png": "[encoded data removed]",
      "text/plain": [
       "<Figure size 864x648 with 1 Axes>"
      ]
     },
     "metadata": {
      "needs_background": "light"
     },
     "output_type": "display_data"
    }
   ],
   "source": [
    "# setup plotting for threshold scan\n",
    "fig = plt.figure(figsize=(12,9))\n",
    "ax = fig.add_subplot(111)\n",
    "ax.set_xticks(np.arange(len(xThreshold)))\n",
    "ax.set_ylim(ymin=0, ymax=42000)\n",
    "ax.set_xlim(xmin=0)\n",
    "ax.yaxis.label.set_size(12)\n",
    "ax.xaxis.label.set_size(12)\n",
    "\n",
    "plt.xlabel('x_description', horizontalalignment='right', x=1.0)\n",
    "plt.ylabel('y_description', horizontalalignment='right', y=1.0)\n",
    "\n",
    "plt.xlabel(\"Threshold\")\n",
    "plt.ylabel(\"Hit Rate [kHz]\")\n",
    "\n",
    "# plot the whole thing and legends\n",
    "plt.plot(xnew,ysmoothf, label=\"Fixed Window\")\n",
    "plt.plot(xnew,ysmooths, label=\"Sliding Window\")\n",
    "plt.legend(loc=1, prop={'size': 16})\n",
    "\n",
    "# show plot\n",
    "plt.show()"
   ]
  },
  {
   "cell_type": "code",
   "execution_count": 12,
   "metadata": {
    "jupyter": {
     "source_hidden": true
    }
   },
   "outputs": [
    {
     "data": {
      "image/png": "[encoded data removed]",
      "text/plain": [
       "<Figure size 864x648 with 1 Axes>"
      ]
     },
     "metadata": {
      "needs_background": "light"
     },
     "output_type": "display_data"
    }
   ],
   "source": [
    "# setup plotting for noise scan\n",
    "fig = plt.figure(figsize=(12,9))\n",
    "ax = fig.add_subplot(111)\n",
    "ax.set_xticks(np.arange(1+2*len(xRate)))\n",
    "ax.set_ylim(ymin=0, ymax=50000)\n",
    "ax.set_xlim(xmin=0)\n",
    "ax.yaxis.label.set_size(12)\n",
    "ax.xaxis.label.set_size(12)\n",
    "\n",
    "for label in ax.xaxis.get_ticklabels()[1::2]:\n",
    "    label.set_visible(False)\n",
    "\n",
    "plt.xlabel('x_description', horizontalalignment='right', x=1.0)\n",
    "plt.ylabel('y_description', horizontalalignment='right', y=1.0)\n",
    "\n",
    "plt.xlabel(\"Noise Rate [MHz]\")\n",
    "plt.ylabel(\"Hit Rate [kHz]\")\n",
    "plt.plot(xnewnoise,ysmoothnoise2, label=\"n > 2 Hits\")\n",
    "plt.plot(xnewnoise,ysmoothnoise4, label=\"n > 4 Hits\")\n",
    "plt.plot(xnewnoise,ysmoothnoise6, label=\"n > 6 Hits\")\n",
    "plt.plot(xnewnoise,ysmoothnoise8, label=\"n > 8 Hits\")\n",
    "plt.plot(xnewnoise,ysmoothnoise10, label=\"n > 10 Hits\")\n",
    "plt.legend(loc=2, prop={'size': 16})\n",
    "\n",
    "# show plot\n",
    "plt.show()"
   ]
  },
  {
   "cell_type": "code",
   "execution_count": null,
   "metadata": {},
   "outputs": [],
   "source": []
  }
 ],
 "metadata": {
  "kernelspec": {
   "display_name": "Python 3",
   "language": "python",
   "name": "python3"
  },
  "language_info": {
   "codemirror_mode": {
    "name": "ipython",
    "version": 3
   },
   "file_extension": ".py",
   "mimetype": "text/x-python",
   "name": "python",
   "nbconvert_exporter": "python",
   "pygments_lexer": "ipython3",
   "version": "3.7.6"
  }
 },
 "nbformat": 4,
 "nbformat_minor": 4
}
