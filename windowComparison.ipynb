{
 "cells": [
  {
   "cell_type": "markdown",
   "metadata": {},
   "source": [
    "## Fixed vs Sliding Windows: Data Suppression\n",
    "\n",
    "* Combined detector expected to produce c. 40 MHz of hit signals (combined dark noise rate of all PMTs)\n",
    "* Plan: Zero suppression to avoid recording all this noise data\n",
    "* Easily implemented rejection criteria:\n",
    "  * Threshold of hits in time window\n",
    "  * Length of time window\n",
    "  * Algorithm (fixed windows vs. sliding window)\n",
    "* Hard to implement/verify criteria:\n",
    "  * Fast reconstruction\n",
    "  * Topological decisions\n",
    "  * Dynamic threshold changes"
   ]
  },
  {
   "cell_type": "markdown",
   "metadata": {},
   "source": [
    "# Fixed Window vs. Sliding Window\n",
    "* Fixed Window:\n",
    "  * easy to calculate\n",
    "  * pure Poisson\n",
    "  * independent events\n",
    "* Sliding Window:\n",
    "  * more permissive\n",
    "  * requires longer time windows\n",
    "  * window can \"bridge\" events\n"
   ]
  },
  {
   "cell_type": "markdown",
   "metadata": {},
   "source": [
    "# Visual Example\n",
    "![WindowTypes1](img/window-comp1.png)\n",
    "\n",
    "This sketch shows a random distribution of hits, split into equal time bins, highlighting which ones are above threshold and which ones aren't. Below is an example of a sliding window sweeping across.\n",
    "\n",
    "![WindowTypes2](img/window-comp2.png)\n",
    "\n",
    "This sketch shows the selected hits, the bottom part shows which sliding windows can be drawn to include the hits that are excluded in the fixed window, highlighting the more permissive nature of a sliding window via \"bridging\""
   ]
  },
  {
   "cell_type": "markdown",
   "metadata": {},
   "source": [
    "# Libraries and Functions\n",
    "The next few cells setup the basic libraries and the functions to generate the hits as well as the implementation of the sliding window"
   ]
  },
  {
   "cell_type": "code",
   "execution_count": 1,
   "metadata": {
    "jupyter": {
     "source_hidden": true
    }
   },
   "outputs": [],
   "source": [
    "# necessary libraries\n",
    "%matplotlib inline\n",
    "import numpy as np\n",
    "import random as rnd\n",
    "import matplotlib.pyplot as plt\n",
    "from scipy.interpolate import make_interp_spline, BSpline\n",
    "MHz = 1000000 # so we can just use MHz as unit\n",
    "ns = 1000000000 # nanoseconds in 1s"
   ]
  },
  {
   "cell_type": "code",
   "execution_count": 2,
   "metadata": {
    "jupyter": {
     "source_hidden": true
    }
   },
   "outputs": [],
   "source": [
    "def generatePoissonHits(timewindow, noiseRate):\n",
    "   \n",
    "   # average time between hits in ns\n",
    "   avgTime = ns/(noiseRate*MHz)\n",
    "   generationActive = True\n",
    "   runningHitTime = 0\n",
    "   nHits = 0\n",
    "\n",
    "   # generate hits until we the running event time\n",
    "   # exceeds the timewindow for the generation\n",
    "   while generationActive:\n",
    "      generatedHitTime = rnd.expovariate(1/avgTime)\n",
    "      runningHitTime += generatedHitTime\n",
    "      if(runningHitTime < timewindow):\n",
    "         nHits += 1\n",
    "      else:\n",
    "         generationActive = False\n",
    "   \n",
    "   return nHits"
   ]
  },
  {
   "cell_type": "code",
   "execution_count": 3,
   "metadata": {
    "jupyter": {
     "source_hidden": true
    }
   },
   "outputs": [],
   "source": [
    "def generatePoissonList(timespan, noiseRate):\n",
    "\n",
    "   # average time between hits in ns\n",
    "   avgTime = ns/(noiseRate*MHz)\n",
    "   generationActive = True\n",
    "   runningHitTime = 0\n",
    "   hitIndex = 0\n",
    "   hitList = []\n",
    "\n",
    "   # generate a list of hit until the event time\n",
    "   # exceeds the requested time span to be sampled\n",
    "   # NB: this is not the window, that's an extra step\n",
    "   while generationActive:\n",
    "      generatedHitTime = rnd.expovariate(1/avgTime)\n",
    "      runningHitTime += generatedHitTime\n",
    "      if(runningHitTime < timespan):\n",
    "         hit = [runningHitTime, False]\n",
    "         hitList.append(hit)\n",
    "         hitIndex += 1\n",
    "      else:\n",
    "         generationActive = False\n",
    "   return hitList"
   ]
  },
  {
   "cell_type": "code",
   "execution_count": 4,
   "metadata": {
    "jupyter": {
     "source_hidden": true
    }
   },
   "outputs": [],
   "source": [
    "def applySlidingWindow(hitList, slidingSize, hitThreshold):\n",
    "\n",
    "   # get length of the list of hits\n",
    "   listLength = len(hitList)\n",
    "\n",
    "   # we use each hit as starting point for a window\n",
    "   for i in range(listLength-hitThreshold):\n",
    "      startTime = hitList[i][0]\n",
    "      hitsInWindow = 1\n",
    "\n",
    "      # now we check the next n hits and whether\n",
    "      # they are within the time window slidingSize\n",
    "      for j in range(hitThreshold):\n",
    "         deltaTime = hitList[i+j+1][0] - startTime\n",
    "         if(deltaTime <= slidingSize):\n",
    "            hitsInWindow += 1\n",
    "   \n",
    "      # if the hits within the window exceeds\n",
    "      # the threshold, we set all of these hits\n",
    "      # to True (i.e. selected)\n",
    "      if hitsInWindow > hitThreshold:\n",
    "         hitList[i][1] = True\n",
    "         for j in range(hitThreshold):\n",
    "            deltaTime = hitList[i+j+1][0] - startTime\n",
    "            if(deltaTime <= slidingSize):\n",
    "               hitList[i+j+1][1] = True\n",
    "\n",
    "   # now iterate over list and count\n",
    "   # all selected hits that are True\n",
    "   totalHits = 0\n",
    "   for i in range(listLength):\n",
    "      if hitList[i][1] == True:\n",
    "         totalHits +=1\n",
    "\n",
    "   # return this number\n",
    "   return totalHits"
   ]
  },
  {
   "cell_type": "markdown",
   "metadata": {},
   "source": [
    "# Calculation Parameters (make adjustments here)\n",
    "The next cell contains the basic variables defining the simulation:\n",
    "* **darkNoiseRate:** This is the combined detector dark noise rate in MHz, default is *40 MHz*\n",
    "* **windowSize:** The time window used in ns, default is *100 ns*\n",
    "* **maxThreshold:** This notebook will compute the effect of different thresholds up to this value, default is *20*\n",
    "* **samples:** How many time windows the script will test (for the sliding window, this is effectively a time equal to the window length times the number of time windows), default is *100,000*, but to lower the uncertainty, crank it up to at least 1M\n",
    "* **debugOutput:** Whether the notebook will generate the intermediate output... default is *False*"
   ]
  },
  {
   "cell_type": "code",
   "execution_count": 5,
   "metadata": {
    "jupyter": {
     "source_hidden": true
    }
   },
   "outputs": [],
   "source": [
    "# setup variables\n",
    "darkNoiseRate = 40 # in MHz, default: 40 MHz\n",
    "windowSize = 100 # in ns, default: 100 ns\n",
    "maxThreshold = 10 # default: 10\n",
    "samples = 100000 # default: 100000\n",
    "debug = False # default: False"
   ]
  },
  {
   "cell_type": "code",
   "execution_count": 6,
   "metadata": {
    "jupyter": {
     "source_hidden": true
    }
   },
   "outputs": [],
   "source": [
    "# convertToHz normalises events to 1s (i.e. Hz)\n",
    "convertToHz = (ns/windowSize)/samples\n",
    "convertTokHz = convertToHz/1000\n",
    "convertToMHz = convertToHz/1000000\n",
    "\n",
    "# avg time between\n",
    "avgTime = ns/(darkNoiseRate*MHz)\n",
    "if debug:\n",
    "    print(\"avg Time:\", avgTime)\n",
    "\n",
    "# we want to run over several thresholds\n",
    "yFixed = []\n",
    "ySliding = []\n",
    "xThreshold = []\n",
    "\n",
    "# we want to run over noise rates, too\n",
    "yNoiseScan2 = []\n",
    "yNoiseScan4 = []\n",
    "yNoiseScan6 = []\n",
    "yNoiseScan8 = []\n",
    "yNoiseScan10 = []\n",
    "xRate = []"
   ]
  },
  {
   "cell_type": "code",
   "execution_count": 7,
   "metadata": {
    "jupyter": {
     "source_hidden": true
    }
   },
   "outputs": [
    {
     "name": "stdout",
     "output_type": "stream",
     "text": [
      "Starting calculations...\n",
      "Start threshold scan...\n",
      "Start noise rate scan...\n",
      "Finished calculations...\n"
     ]
    }
   ],
   "source": [
    "print(\"Starting calculations...\")\n",
    "\n",
    "# scan across thresholds\n",
    "print(\"Start threshold scan...\")\n",
    "for threshold in range(0,maxThreshold+1):\n",
    "\n",
    "   if debug:\n",
    "      print(\"Running threshold\", threshold)\n",
    "   xThreshold.append(threshold)\n",
    "\n",
    "   # generate a Poisson events independently,\n",
    "   # i.e. sample many fixed windows\n",
    "   fixedRate = 0\n",
    "   for i in range(samples):\n",
    "      hits = generatePoissonHits(windowSize, darkNoiseRate)\n",
    "      if hits > threshold:\n",
    "         fixedRate += hits\n",
    "   if debug:\n",
    "      print(\"Fixed Rate (kHz):\", fixedRate*convertTokHz)\n",
    "   yFixed.append(fixedRate*convertTokHz)\n",
    "\n",
    "   # generate hit list for sliding window\n",
    "   allHits = generatePoissonList(samples*windowSize,40)\n",
    "\n",
    "   # then apply sliding window to that list\n",
    "   # special case of threshold = 0, as function\n",
    "   # will fail, so just use everything!\n",
    "   slidingRate = 0\n",
    "   if threshold > 0:\n",
    "      slidingRate = applySlidingWindow(allHits, windowSize, threshold)\n",
    "   else:\n",
    "      slidingRate = len(allHits)\n",
    "\n",
    "   if debug:\n",
    "      print(\"Sliding Rate (kHz):\", slidingRate*convertTokHz)\n",
    "   ySliding.append(slidingRate*convertTokHz)\n",
    "\n",
    "# scan across noise rates\n",
    "print(\"Start noise rate scan...\")\n",
    "for testNoiseRate in range(2, 52, 2):\n",
    "    \n",
    "    # generate new hit list for new new noise rates\n",
    "    noiseScanHits2 = generatePoissonList(samples*windowSize,testNoiseRate)\n",
    "    noiseScanHits4 = generatePoissonList(samples*windowSize,testNoiseRate)\n",
    "    noiseScanHits6 = generatePoissonList(samples*windowSize,testNoiseRate)\n",
    "    noiseScanHits8 = generatePoissonList(samples*windowSize,testNoiseRate)\n",
    "    noiseScanHits10 = generatePoissonList(samples*windowSize,testNoiseRate)\n",
    "    \n",
    "    # apply sliding window\n",
    "    scanSlidingRate2 = applySlidingWindow(noiseScanHits2, windowSize, 2)\n",
    "    scanSlidingRate4 = applySlidingWindow(noiseScanHits4, windowSize, 4)\n",
    "    scanSlidingRate6 = applySlidingWindow(noiseScanHits6, windowSize, 6)\n",
    "    scanSlidingRate8 = applySlidingWindow(noiseScanHits8, windowSize, 8)\n",
    "    scanSlidingRate10 = applySlidingWindow(noiseScanHits10, windowSize, 10)\n",
    "    \n",
    "    # append to table\n",
    "    yNoiseScan2.append(scanSlidingRate2*convertTokHz)\n",
    "    yNoiseScan4.append(scanSlidingRate4*convertTokHz)\n",
    "    yNoiseScan6.append(scanSlidingRate6*convertTokHz)\n",
    "    yNoiseScan8.append(scanSlidingRate8*convertTokHz)\n",
    "    yNoiseScan10.append(scanSlidingRate10*convertTokHz)\n",
    "    xRate.append(testNoiseRate)\n",
    "\n",
    "print(\"Finished calculations...\")"
   ]
  },
  {
   "cell_type": "code",
   "execution_count": 8,
   "metadata": {
    "jupyter": {
     "source_hidden": true
    }
   },
   "outputs": [],
   "source": [
    "# print out debug table\n",
    "if debug:\n",
    "   print(\"T'hold\\tFixed [kHz]\\tSliding [kHz]\")\n",
    "   for t in range(len(xThreshold)):\n",
    "      print(\"%.0f\\t%.2f\\t%.2f\" % (xThreshold[t], yFixed[t], ySliding[t]))"
   ]
  },
  {
   "cell_type": "markdown",
   "metadata": {},
   "source": [
    "# Results\n",
    "The three lists (xThreshold, yFixed, ySliding) hold the respective values of registered hits. These are converted into a table and a (smoothed) plot below for presentations."
   ]
  },
  {
   "cell_type": "code",
   "execution_count": 9,
   "metadata": {
    "jupyter": {
     "source_hidden": true
    }
   },
   "outputs": [
    {
     "data": {
      "text/html": [
       "<table border=\"1\" class=\"dataframe\">\n",
       "  <thead>\n",
       "    <tr style=\"text-align: right;\">\n",
       "      <th>Threshold</th>\n",
       "      <th>Fixed Window [kHz]</th>\n",
       "      <th>Sliding Window [kHz]</th>\n",
       "    </tr>\n",
       "  </thead>\n",
       "  <tbody>\n",
       "    <tr>\n",
       "      <td>0</td>\n",
       "      <td>40021.8</td>\n",
       "      <td>40029.2</td>\n",
       "    </tr>\n",
       "    <tr>\n",
       "      <td>1</td>\n",
       "      <td>39187.2</td>\n",
       "      <td>40015.4</td>\n",
       "    </tr>\n",
       "    <tr>\n",
       "      <td>2</td>\n",
       "      <td>36315.6</td>\n",
       "      <td>39811.2</td>\n",
       "    </tr>\n",
       "    <tr>\n",
       "      <td>3</td>\n",
       "      <td>30518.9</td>\n",
       "      <td>38486.5</td>\n",
       "    </tr>\n",
       "    <tr>\n",
       "      <td>4</td>\n",
       "      <td>22606.9</td>\n",
       "      <td>35166.2</td>\n",
       "    </tr>\n",
       "    <tr>\n",
       "      <td>5</td>\n",
       "      <td>14657.6</td>\n",
       "      <td>29165.0</td>\n",
       "    </tr>\n",
       "    <tr>\n",
       "      <td>6</td>\n",
       "      <td>8499.1</td>\n",
       "      <td>21172.0</td>\n",
       "    </tr>\n",
       "    <tr>\n",
       "      <td>7</td>\n",
       "      <td>4407.1</td>\n",
       "      <td>13710.0</td>\n",
       "    </tr>\n",
       "    <tr>\n",
       "      <td>8</td>\n",
       "      <td>2017.0</td>\n",
       "      <td>7506.6</td>\n",
       "    </tr>\n",
       "    <tr>\n",
       "      <td>9</td>\n",
       "      <td>840.0</td>\n",
       "      <td>3805.8</td>\n",
       "    </tr>\n",
       "    <tr>\n",
       "      <td>10</td>\n",
       "      <td>325.0</td>\n",
       "      <td>1659.9</td>\n",
       "    </tr>\n",
       "  </tbody>\n",
       "</table>"
      ],
      "text/plain": [
       "<IPython.core.display.HTML object>"
      ]
     },
     "metadata": {},
     "output_type": "display_data"
    },
    {
     "data": {
      "text/html": [
       "<table border=\"1\" class=\"dataframe\">\n",
       "  <thead>\n",
       "    <tr style=\"text-align: right;\">\n",
       "      <th>Noise Rate [MHz]</th>\n",
       "      <th>Hit Rate n&gt;2 [kHz]</th>\n",
       "      <th>Hit Rate n&gt;4 [kHz]</th>\n",
       "      <th>Hit Rate n&gt;6 [kHz]</th>\n",
       "      <th>Hit Rate n&gt;8 [kHz]</th>\n",
       "      <th>Hit Rate n&gt;10 [kHz]</th>\n",
       "    </tr>\n",
       "  </thead>\n",
       "  <tbody>\n",
       "    <tr>\n",
       "      <td>2</td>\n",
       "      <td>95.3</td>\n",
       "      <td>0.0</td>\n",
       "      <td>0.0</td>\n",
       "      <td>0.0</td>\n",
       "      <td>0.0</td>\n",
       "    </tr>\n",
       "    <tr>\n",
       "      <td>4</td>\n",
       "      <td>628.3</td>\n",
       "      <td>14.8</td>\n",
       "      <td>0.0</td>\n",
       "      <td>0.0</td>\n",
       "      <td>0.0</td>\n",
       "    </tr>\n",
       "    <tr>\n",
       "      <td>6</td>\n",
       "      <td>1679.4</td>\n",
       "      <td>81.3</td>\n",
       "      <td>1.4</td>\n",
       "      <td>0.0</td>\n",
       "      <td>0.0</td>\n",
       "    </tr>\n",
       "    <tr>\n",
       "      <td>8</td>\n",
       "      <td>3287.8</td>\n",
       "      <td>292.4</td>\n",
       "      <td>10.4</td>\n",
       "      <td>0.9</td>\n",
       "      <td>0.0</td>\n",
       "    </tr>\n",
       "    <tr>\n",
       "      <td>10</td>\n",
       "      <td>5246.8</td>\n",
       "      <td>680.5</td>\n",
       "      <td>34.4</td>\n",
       "      <td>3.6</td>\n",
       "      <td>0.0</td>\n",
       "    </tr>\n",
       "    <tr>\n",
       "      <td>12</td>\n",
       "      <td>7531.7</td>\n",
       "      <td>1385.7</td>\n",
       "      <td>81.6</td>\n",
       "      <td>7.7</td>\n",
       "      <td>0.0</td>\n",
       "    </tr>\n",
       "    <tr>\n",
       "      <td>14</td>\n",
       "      <td>9945.6</td>\n",
       "      <td>2372.1</td>\n",
       "      <td>202.4</td>\n",
       "      <td>14.4</td>\n",
       "      <td>0.0</td>\n",
       "    </tr>\n",
       "    <tr>\n",
       "      <td>16</td>\n",
       "      <td>12441.2</td>\n",
       "      <td>3640.8</td>\n",
       "      <td>433.2</td>\n",
       "      <td>33.8</td>\n",
       "      <td>2.3</td>\n",
       "    </tr>\n",
       "    <tr>\n",
       "      <td>18</td>\n",
       "      <td>14895.3</td>\n",
       "      <td>5490.0</td>\n",
       "      <td>785.8</td>\n",
       "      <td>63.3</td>\n",
       "      <td>1.3</td>\n",
       "    </tr>\n",
       "    <tr>\n",
       "      <td>20</td>\n",
       "      <td>17551.9</td>\n",
       "      <td>7580.2</td>\n",
       "      <td>1416.2</td>\n",
       "      <td>126.2</td>\n",
       "      <td>6.9</td>\n",
       "    </tr>\n",
       "    <tr>\n",
       "      <td>22</td>\n",
       "      <td>19861.8</td>\n",
       "      <td>9976.4</td>\n",
       "      <td>2134.1</td>\n",
       "      <td>247.8</td>\n",
       "      <td>23.4</td>\n",
       "    </tr>\n",
       "    <tr>\n",
       "      <td>24</td>\n",
       "      <td>22300.9</td>\n",
       "      <td>12343.7</td>\n",
       "      <td>3138.2</td>\n",
       "      <td>436.5</td>\n",
       "      <td>28.0</td>\n",
       "    </tr>\n",
       "    <tr>\n",
       "      <td>26</td>\n",
       "      <td>24548.9</td>\n",
       "      <td>15179.6</td>\n",
       "      <td>4645.3</td>\n",
       "      <td>680.7</td>\n",
       "      <td>67.2</td>\n",
       "    </tr>\n",
       "    <tr>\n",
       "      <td>28</td>\n",
       "      <td>26917.4</td>\n",
       "      <td>17774.2</td>\n",
       "      <td>6155.2</td>\n",
       "      <td>1134.5</td>\n",
       "      <td>123.5</td>\n",
       "    </tr>\n",
       "    <tr>\n",
       "      <td>30</td>\n",
       "      <td>29052.9</td>\n",
       "      <td>20728.7</td>\n",
       "      <td>8011.2</td>\n",
       "      <td>1701.8</td>\n",
       "      <td>223.6</td>\n",
       "    </tr>\n",
       "    <tr>\n",
       "      <td>32</td>\n",
       "      <td>31245.3</td>\n",
       "      <td>23728.0</td>\n",
       "      <td>10154.8</td>\n",
       "      <td>2516.9</td>\n",
       "      <td>344.0</td>\n",
       "    </tr>\n",
       "    <tr>\n",
       "      <td>34</td>\n",
       "      <td>33454.7</td>\n",
       "      <td>26765.0</td>\n",
       "      <td>12741.4</td>\n",
       "      <td>3380.2</td>\n",
       "      <td>515.4</td>\n",
       "    </tr>\n",
       "    <tr>\n",
       "      <td>36</td>\n",
       "      <td>35693.2</td>\n",
       "      <td>29585.8</td>\n",
       "      <td>15351.8</td>\n",
       "      <td>4532.1</td>\n",
       "      <td>792.7</td>\n",
       "    </tr>\n",
       "    <tr>\n",
       "      <td>38</td>\n",
       "      <td>37770.1</td>\n",
       "      <td>32437.0</td>\n",
       "      <td>18047.9</td>\n",
       "      <td>5954.4</td>\n",
       "      <td>1203.0</td>\n",
       "    </tr>\n",
       "    <tr>\n",
       "      <td>40</td>\n",
       "      <td>39783.5</td>\n",
       "      <td>35343.3</td>\n",
       "      <td>21281.2</td>\n",
       "      <td>7591.9</td>\n",
       "      <td>1664.7</td>\n",
       "    </tr>\n",
       "    <tr>\n",
       "      <td>42</td>\n",
       "      <td>41734.1</td>\n",
       "      <td>37851.6</td>\n",
       "      <td>24472.7</td>\n",
       "      <td>9579.9</td>\n",
       "      <td>2389.6</td>\n",
       "    </tr>\n",
       "    <tr>\n",
       "      <td>44</td>\n",
       "      <td>43927.1</td>\n",
       "      <td>40600.7</td>\n",
       "      <td>27296.4</td>\n",
       "      <td>11924.1</td>\n",
       "      <td>3169.7</td>\n",
       "    </tr>\n",
       "    <tr>\n",
       "      <td>46</td>\n",
       "      <td>45871.1</td>\n",
       "      <td>43286.5</td>\n",
       "      <td>30663.8</td>\n",
       "      <td>14265.2</td>\n",
       "      <td>4127.8</td>\n",
       "    </tr>\n",
       "    <tr>\n",
       "      <td>48</td>\n",
       "      <td>47937.6</td>\n",
       "      <td>45675.8</td>\n",
       "      <td>34262.6</td>\n",
       "      <td>16836.0</td>\n",
       "      <td>5461.2</td>\n",
       "    </tr>\n",
       "    <tr>\n",
       "      <td>50</td>\n",
       "      <td>49998.8</td>\n",
       "      <td>47873.3</td>\n",
       "      <td>37351.2</td>\n",
       "      <td>19572.8</td>\n",
       "      <td>6794.0</td>\n",
       "    </tr>\n",
       "  </tbody>\n",
       "</table>"
      ],
      "text/plain": [
       "<IPython.core.display.HTML object>"
      ]
     },
     "metadata": {},
     "output_type": "display_data"
    }
   ],
   "source": [
    "# turn into nice table for data frame + printing\n",
    "resultTable1 = [] # threshold scan\n",
    "resultTable2 = [] # noise scan\n",
    "for t in range(len(xThreshold)):\n",
    "    resultTable1.append([xThreshold[t], round(yFixed[t],2), round(ySliding[t],2)])\n",
    "for t in range(len(xRate)):\n",
    "    resultTable2.append([xRate[t], round(yNoiseScan2[t],2), round(yNoiseScan4[t],2), round(yNoiseScan6[t],2), round(yNoiseScan8[t],2), round(yNoiseScan10[t],2)])\n",
    "\n",
    "# load pandas and IPython display\n",
    "import pandas as pd\n",
    "from IPython.display import display, HTML\n",
    "\n",
    "# convert into dataframe\n",
    "resultData1 = pd.DataFrame(resultTable1, columns=[\"Threshold\", \"Fixed Window [kHz]\", \"Sliding Window [kHz]\"])\n",
    "resultData2 = pd.DataFrame(resultTable2, columns=[\"Noise Rate [MHz]\", \"Hit Rate n>2 [kHz]\", \"Hit Rate n>4 [kHz]\", \"Hit Rate n>6 [kHz]\", \"Hit Rate n>8 [kHz]\", \"Hit Rate n>10 [kHz]\"])\n",
    "display(HTML(resultData1.to_html(index=False)))\n",
    "display(HTML(resultData2.to_html(index=False)))"
   ]
  },
  {
   "cell_type": "code",
   "execution_count": 10,
   "metadata": {
    "jupyter": {
     "source_hidden": true
    }
   },
   "outputs": [],
   "source": [
    "# interpolate for nicer looking plot\n",
    "spl1 = make_interp_spline(xThreshold, yFixed, k=3)\n",
    "spl2 = make_interp_spline(xThreshold, ySliding, k=3)\n",
    "xnew = np.linspace(0,maxThreshold,maxThreshold*10)\n",
    "ysmoothf = spl1(xnew)\n",
    "ysmooths = spl2(xnew)"
   ]
  },
  {
   "cell_type": "code",
   "execution_count": 11,
   "metadata": {
    "jupyter": {
     "source_hidden": true
    }
   },
   "outputs": [
    {
     "data": {
      "image/png": "[encoded data removed]",
      "text/plain": [
       "<Figure size 864x648 with 1 Axes>"
      ]
     },
     "metadata": {
      "needs_background": "light"
     },
     "output_type": "display_data"
    }
   ],
   "source": [
    "# setup plotting for threshold scan\n",
    "fig = plt.figure(figsize=(12,9))\n",
    "ax = fig.add_subplot(111)\n",
    "ax.set_xticks(np.arange(len(xThreshold)))\n",
    "ax.set_ylim(ymin=0, ymax=42000)\n",
    "ax.set_xlim(xmin=0)\n",
    "ax.yaxis.label.set_size(12)\n",
    "ax.xaxis.label.set_size(12)\n",
    "\n",
    "plt.xlabel('x_description', horizontalalignment='right', x=1.0)\n",
    "plt.ylabel('y_description', horizontalalignment='right', y=1.0)\n",
    "\n",
    "plt.xlabel(\"Threshold\")\n",
    "plt.ylabel(\"Hit Rate [kHz]\")\n",
    "\n",
    "# plot the whole thing and legends\n",
    "plt.plot(xnew,ysmoothf, label=\"Fixed Window\")\n",
    "plt.plot(xnew,ysmooths, label=\"Sliding Window\")\n",
    "plt.legend(loc=1, prop={'size': 16})\n",
    "\n",
    "# show plot\n",
    "plt.show()"
   ]
  },
  {
   "cell_type": "code",
   "execution_count": 12,
   "metadata": {
    "jupyter": {
     "source_hidden": true
    }
   },
   "outputs": [
    {
     "data": {
      "image/png": "[encoded data removed]",
      "text/plain": [
       "<Figure size 864x648 with 1 Axes>"
      ]
     },
     "metadata": {
      "needs_background": "light"
     },
     "output_type": "display_data"
    }
   ],
   "source": [
    "# setup plotting for threshold scan\n",
    "fig = plt.figure(figsize=(12,9))\n",
    "ax = fig.add_subplot(111)\n",
    "ax.set_xticks(np.arange(1+2*len(xRate)))\n",
    "ax.set_ylim(ymin=0, ymax=50000)\n",
    "ax.set_xlim(xmin=0)\n",
    "ax.yaxis.label.set_size(12)\n",
    "ax.xaxis.label.set_size(12)\n",
    "\n",
    "for label in ax.xaxis.get_ticklabels()[1::2]:\n",
    "    label.set_visible(False)\n",
    "\n",
    "plt.xlabel('x_description', horizontalalignment='right', x=1.0)\n",
    "plt.ylabel('y_description', horizontalalignment='right', y=1.0)\n",
    "\n",
    "plt.xlabel(\"Noise Rate [MHz]\")\n",
    "plt.ylabel(\"Hit Rate [kHz]\")\n",
    "plt.plot(xRate,yNoiseScan2, label=\"n > 2 Hits\")\n",
    "plt.plot(xRate,yNoiseScan4, label=\"n > 4 Hits\")\n",
    "plt.plot(xRate,yNoiseScan6, label=\"n > 6 Hits\")\n",
    "plt.plot(xRate,yNoiseScan8, label=\"n > 8 Hits\")\n",
    "plt.plot(xRate,yNoiseScan10, label=\"n > 10 Hits\")\n",
    "plt.legend(loc=2, prop={'size': 16})\n",
    "\n",
    "# show plot\n",
    "plt.show()"
   ]
  },
  {
   "cell_type": "code",
   "execution_count": null,
   "metadata": {},
   "outputs": [],
   "source": []
  },
  {
   "cell_type": "code",
   "execution_count": null,
   "metadata": {},
   "outputs": [],
   "source": []
  }
 ],
 "metadata": {
  "kernelspec": {
   "display_name": "Python 3",
   "language": "python",
   "name": "python3"
  },
  "language_info": {
   "codemirror_mode": {
    "name": "ipython",
    "version": 3
   },
   "file_extension": ".py",
   "mimetype": "text/x-python",
   "name": "python",
   "nbconvert_exporter": "python",
   "pygments_lexer": "ipython3",
   "version": "3.7.6"
  }
 },
 "nbformat": 4,
 "nbformat_minor": 4
}
